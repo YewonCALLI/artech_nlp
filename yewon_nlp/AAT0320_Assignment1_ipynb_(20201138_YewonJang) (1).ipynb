{
  "cells": [
    {
      "cell_type": "markdown",
      "id": "145148bd",
      "metadata": {
        "id": "145148bd"
      },
      "source": [
        "# Assignment 1\n",
        "\n",
        "In this assignment, you will explore about word vectors.\n",
        "\n",
        "- Submision: A report in ``PDF``, and your completed notebook file in ``ipynb``\n",
        "    - The assignment will be evalulated mainly with report. So please include every detail you want to present in your report\n",
        "    - Report: Free format. You can copy and paste part of your code for some problems.\n",
        "    - ipynb: Save your notebook (with output of each cell if possible) as ipynb and submit it\n",
        "- Evaluation criteria\n",
        "    - How interesting and original are the presented examples\n",
        "    - How well you describe the reason of success or failure of your examples by considering how Word2Vec is trained"
      ]
    },
    {
      "cell_type": "markdown",
      "id": "97ee4fd6",
      "metadata": {
        "id": "97ee4fd6"
      },
      "source": [
        "## 0. Setup\n",
        "- Check ``gensim`` library is installed\n",
        "  - This assignment code was designed for ``gensim==4.1.2``\n",
        "- List the downloadable vectors from ``gensim``\n"
      ]
    },
    {
      "cell_type": "code",
      "execution_count": 2,
      "id": "db0bbbcb",
      "metadata": {
        "colab": {
          "base_uri": "https://localhost:8080/"
        },
        "id": "db0bbbcb",
        "outputId": "9e3de122-568a-489f-828a-74ad8350d1b4"
      },
      "outputs": [
        {
          "name": "stdout",
          "output_type": "stream",
          "text": [
            "Requirement already satisfied: gensim in /usr/local/lib/python3.7/dist-packages (3.6.0)\n",
            "Collecting gensim\n",
            "  Downloading gensim-4.1.2-cp37-cp37m-manylinux_2_12_x86_64.manylinux2010_x86_64.whl (24.1 MB)\n",
            "\u001b[K     |████████████████████████████████| 24.1 MB 1.3 MB/s \n",
            "\u001b[?25hRequirement already satisfied: smart-open>=1.8.1 in /usr/local/lib/python3.7/dist-packages (from gensim) (5.2.1)\n",
            "Requirement already satisfied: numpy>=1.17.0 in /usr/local/lib/python3.7/dist-packages (from gensim) (1.21.5)\n",
            "Requirement already satisfied: scipy>=0.18.1 in /usr/local/lib/python3.7/dist-packages (from gensim) (1.4.1)\n",
            "Installing collected packages: gensim\n",
            "  Attempting uninstall: gensim\n",
            "    Found existing installation: gensim 3.6.0\n",
            "    Uninstalling gensim-3.6.0:\n",
            "      Successfully uninstalled gensim-3.6.0\n",
            "Successfully installed gensim-4.1.2\n",
            "4.1.2\n"
          ]
        }
      ],
      "source": [
        "!pip install --upgrade gensim\n",
        "import gensim\n",
        "import numpy as np\n",
        "import pprint as pp\n",
        "print(gensim.__version__)"
      ]
    },
    {
      "cell_type": "code",
      "execution_count": 3,
      "id": "9bbeb288",
      "metadata": {
        "colab": {
          "base_uri": "https://localhost:8080/"
        },
        "id": "9bbeb288",
        "outputId": "d4a227c9-3e32-4a8d-f19c-ec43b73e53d1"
      },
      "outputs": [
        {
          "data": {
            "text/plain": [
              "['fasttext-wiki-news-subwords-300',\n",
              " 'conceptnet-numberbatch-17-06-300',\n",
              " 'word2vec-ruscorpora-300',\n",
              " 'word2vec-google-news-300',\n",
              " 'glove-wiki-gigaword-50',\n",
              " 'glove-wiki-gigaword-100',\n",
              " 'glove-wiki-gigaword-200',\n",
              " 'glove-wiki-gigaword-300',\n",
              " 'glove-twitter-25',\n",
              " 'glove-twitter-50',\n",
              " 'glove-twitter-100',\n",
              " 'glove-twitter-200',\n",
              " '__testing_word2vec-matrix-synopsis']"
            ]
          },
          "execution_count": 3,
          "metadata": {},
          "output_type": "execute_result"
        }
      ],
      "source": [
        "import gensim.downloader\n",
        "list(gensim.downloader.info()['models'].keys())"
      ]
    },
    {
      "cell_type": "markdown",
      "id": "aeae1e1d",
      "metadata": {
        "id": "aeae1e1d"
      },
      "source": [
        "- Among the Word2Vec model codes above, select one model of your choice among ``glove-wiki-gigaword`` or ``glove-twitter``\n",
        "    - numbers at the last represents the number of dimension of each Word2Vec Model\n",
        "        - e.g. ``glove-twitter-25`` was trained on twitter dataset while embedding each word into 25-dim vector\n",
        "        - e.g. ``glove-twitter-200`` was trained on twitter dataset while embedding each word into 200-dim vector\n",
        "- Download the selected model and load it as a ``model``"
      ]
    },
    {
      "cell_type": "code",
      "execution_count": 4,
      "id": "a0ace8aa",
      "metadata": {
        "colab": {
          "base_uri": "https://localhost:8080/"
        },
        "id": "a0ace8aa",
        "outputId": "10efe122-2207-4968-eac5-acd1ffdd1b36"
      },
      "outputs": [
        {
          "name": "stdout",
          "output_type": "stream",
          "text": [
            "[==================================================] 100.0% 104.8/104.8MB downloaded\n"
          ]
        }
      ],
      "source": [
        "your_model_code = 'glove-twitter-25' # select among the model code aboves\n",
        "model = gensim.downloader.load(your_model_code) # download and load the model. It can take some time"
      ]
    },
    {
      "cell_type": "code",
      "execution_count": null,
      "id": "41125ee7",
      "metadata": {
        "colab": {
          "base_uri": "https://localhost:8080/"
        },
        "id": "41125ee7",
        "outputId": "219607ac-8c29-47c5-8918-7cfc3bdebd26",
        "scrolled": true
      },
      "outputs": [
        {
          "data": {
            "text/plain": [
              "array([-0.96419 , -0.60978 ,  0.67449 ,  0.35113 ,  0.41317 , -0.21241 ,\n",
              "        1.3796  ,  0.12854 ,  0.31567 ,  0.66325 ,  0.3391  , -0.18934 ,\n",
              "       -3.325   , -1.1491  , -0.4129  ,  0.2195  ,  0.8706  , -0.50616 ,\n",
              "       -0.12781 , -0.066965,  0.065761,  0.43927 ,  0.1758  , -0.56058 ,\n",
              "        0.13529 ], dtype=float32)"
            ]
          },
          "execution_count": 37,
          "metadata": {},
          "output_type": "execute_result"
        }
      ],
      "source": [
        "# test the model output\n",
        "model['cat']"
      ]
    },
    {
      "cell_type": "markdown",
      "id": "73a673d6",
      "metadata": {
        "id": "73a673d6"
      },
      "source": [
        "## Problem 1. Find Most Similar Words (10 pts)\n",
        "- One of the most simple and typical use case of Word2Vec is finding a word based on similarity.\n",
        "- You can list the most similar words for a given query word by using ``model.most_similar(your_word)``\n",
        "    - Usually, every word in Word2Vec model is in lowercase\n",
        "    \n",
        "- **In your report**, present more than **5** interesting examples and explain why it was interesting for you**\n",
        "    - Try to explain why those words are regarded similar in Word2Vec, considering how it was trained\n",
        "   "
      ]
    },
    {
      "cell_type": "code",
      "execution_count": null,
      "id": "ccd292a8",
      "metadata": {
        "colab": {
          "base_uri": "https://localhost:8080/"
        },
        "id": "ccd292a8",
        "outputId": "f993d8bc-e2b1-405e-ac8f-132b5a9297a4"
      },
      "outputs": [
        {
          "data": {
            "text/plain": [
              "[('facebook', 0.9231431484222412),\n",
              " ('web', 0.9163658022880554),\n",
              " ('app', 0.905758261680603),\n",
              " ('youtube', 0.8911036252975464),\n",
              " ('microsoft', 0.8854138255119324),\n",
              " ('online', 0.883611261844635),\n",
              " ('yahoo', 0.8831738233566284),\n",
              " ('apple', 0.8823866248130798),\n",
              " ('internet', 0.8815463781356812),\n",
              " ('ios', 0.8784741759300232)]"
            ]
          },
          "execution_count": 67,
          "metadata": {},
          "output_type": "execute_result"
        }
      ],
      "source": [
        "target_word = 'google' # Enter your word string here\n",
        "# check the word is in the vocabulary of the model\n",
        "assert model.has_index_for(target_word), f\"The selected word, {target_word}, is not included in the model's vocabulary\"\n",
        "model.most_similar(target_word)"
      ]
    },
    {
      "cell_type": "code",
      "execution_count": null,
      "id": "VWdjTupkKKBK",
      "metadata": {
        "colab": {
          "base_uri": "https://localhost:8080/"
        },
        "id": "VWdjTupkKKBK",
        "outputId": "678311d0-ec4a-4c49-dd0f-54726c288800"
      },
      "outputs": [
        {
          "data": {
            "text/plain": [
              "[('nokia', 0.9708800315856934),\n",
              " ('sony', 0.9545654654502869),\n",
              " ('galaxy', 0.9470023512840271),\n",
              " ('lumia', 0.935992956161499),\n",
              " ('nexus', 0.9343191385269165),\n",
              " ('smartphone', 0.9290376305580139),\n",
              " ('htc', 0.9199563264846802),\n",
              " ('android', 0.9002324938774109),\n",
              " ('motorola', 0.8977328538894653),\n",
              " ('blackberry', 0.8918020129203796)]"
            ]
          },
          "execution_count": 69,
          "metadata": {},
          "output_type": "execute_result"
        }
      ],
      "source": [
        "target_word = 'samsung' # Enter your word string here\n",
        "# check the word is in the vocabulary of the model\n",
        "assert model.has_index_for(target_word), f\"The selected word, {target_word}, is not included in the model's vocabulary\"\n",
        "model.most_similar(target_word)"
      ]
    },
    {
      "cell_type": "code",
      "execution_count": null,
      "id": "1_ErnGG-KJxi",
      "metadata": {
        "colab": {
          "base_uri": "https://localhost:8080/"
        },
        "id": "1_ErnGG-KJxi",
        "outputId": "a17cb066-2386-455c-b742-434b1a23f091"
      },
      "outputs": [
        {
          "data": {
            "text/plain": [
              "[('basketball', 0.9710005521774292),\n",
              " ('baseball', 0.9686070084571838),\n",
              " ('football', 0.9614765644073486),\n",
              " ('softball', 0.9414636492729187),\n",
              " ('volleyball', 0.9386053085327148),\n",
              " ('wrestling', 0.9307113289833069),\n",
              " ('hockey', 0.9300045371055603),\n",
              " ('sports', 0.917955756187439),\n",
              " ('boxing', 0.9172205328941345),\n",
              " ('olympics', 0.9142605662345886)]"
            ]
          },
          "execution_count": 76,
          "metadata": {},
          "output_type": "execute_result"
        }
      ],
      "source": [
        "target_word = 'soccer' # Enter your word string here\n",
        "# check the word is in the vocabulary of the model\n",
        "assert model.has_index_for(target_word), f\"The selected word, {target_word}, is not included in the model's vocabulary\"\n",
        "model.most_similar(target_word)"
      ]
    },
    {
      "cell_type": "code",
      "execution_count": null,
      "id": "FgZuB_cfWiR6",
      "metadata": {
        "colab": {
          "base_uri": "https://localhost:8080/"
        },
        "id": "FgZuB_cfWiR6",
        "outputId": "33fdb130-2abf-45a4-aaf1-5a2dd9130681"
      },
      "outputs": [
        {
          "data": {
            "text/plain": [
              "[('taiwan', 0.9158143401145935),\n",
              " ('gayo', 0.9016762971878052),\n",
              " ('smtown', 0.8988726139068604),\n",
              " ('kbs', 0.8929415345191956),\n",
              " ('macau', 0.8912195563316345),\n",
              " ('fanmeeting', 0.8880347609519958),\n",
              " ('beijing', 0.8844577670097351),\n",
              " ('mnet', 0.882689356803894),\n",
              " ('daejun', 0.8788240551948547),\n",
              " ('shanghai', 0.8761192560195923)]"
            ]
          },
          "execution_count": 95,
          "metadata": {},
          "output_type": "execute_result"
        }
      ],
      "source": [
        "target_word = 'seoul' # Enter your word string here\n",
        "# check the word is in the vocabulary of the model\n",
        "assert model.has_index_for(target_word), f\"The selected word, {target_word}, is not included in the model's vocabulary\"\n",
        "model.most_similar(target_word)"
      ]
    },
    {
      "cell_type": "code",
      "execution_count": null,
      "id": "xw3mI6NDWkpt",
      "metadata": {
        "colab": {
          "base_uri": "https://localhost:8080/"
        },
        "id": "xw3mI6NDWkpt",
        "outputId": "ac75c9f6-17ad-4ec1-e54e-a4ef2e8765cd"
      },
      "outputs": [
        {
          "data": {
            "text/plain": [
              "[('prada', 0.8772910237312317),\n",
              " ('vintage', 0.8637654185295105),\n",
              " ('armani', 0.8589000701904297),\n",
              " ('pink', 0.8402380347251892),\n",
              " ('bling', 0.8394344449043274),\n",
              " ('bean', 0.8373516201972961),\n",
              " ('vuitton', 0.8363452553749084),\n",
              " ('hermes', 0.8340110778808594),\n",
              " ('melon', 0.8336739540100098),\n",
              " ('h&m', 0.8317590951919556)]"
            ]
          },
          "execution_count": 106,
          "metadata": {},
          "output_type": "execute_result"
        }
      ],
      "source": [
        "target_word = 'chanel' # Enter your word string here\n",
        "# check the word is in the vocabulary of the model\n",
        "assert model.has_index_for(target_word), f\"The selected word, {target_word}, is not included in the model's vocabulary\"\n",
        "model.most_similar(target_word)"
      ]
    },
    {
      "cell_type": "markdown",
      "id": "43c9e1b0",
      "metadata": {
        "id": "43c9e1b0"
      },
      "source": [
        "## Problem 2. Word Analogy (10 pts)\n",
        "- Another interesting thing you can play with Word2Vec is word analogy\n",
        "- Word analogy is done by adding and subtracting the word vector\n",
        "- In the cell below, you can run an example like this\n",
        "    - ``analogy(model, 'man', 'king', 'woman')`` represents a question of \"man is to king as woman is to what?\"\n",
        "- Try with your own choice.\n",
        "- **In your report**, present at least **5** interesting examples of your choice\n",
        "    - You can include the failure case\n",
        "    - Describe what did you expect and why the result was interesting for you"
      ]
    },
    {
      "cell_type": "code",
      "execution_count": 131,
      "id": "b75a2f6a",
      "metadata": {
        "colab": {
          "base_uri": "https://localhost:8080/"
        },
        "id": "b75a2f6a",
        "outputId": "4745791c-4205-40eb-d335-4f269b12eab6"
      },
      "outputs": [
        {
          "name": "stdout",
          "output_type": "stream",
          "text": [
            "[('read', 0.865265429019928),\n",
            " ('stories', 0.8491902351379395),\n",
            " ('reading', 0.8336642980575562),\n",
            " ('meeting', 0.8193619251251221),\n",
            " ('interview', 0.8171460032463074),\n",
            " ('story', 0.8167369365692139),\n",
            " ('writing', 0.811582624912262),\n",
            " ('meet', 0.8112930655479431),\n",
            " ('project', 0.8065598607063293),\n",
            " ('writers', 0.8056339025497437)]\n"
          ]
        }
      ],
      "source": [
        "def analogy(model, x1, x2, y1):\n",
        "  pp.pprint(model.most_similar([x2, y1], negative=[x1]))\n",
        "\n",
        "# Try with your own word choice\n",
        "analogy(model, 'pencil', 'write', 'book')"
      ]
    },
    {
      "cell_type": "code",
      "execution_count": 129,
      "id": "FSlVWIp5c2T3",
      "metadata": {
        "colab": {
          "base_uri": "https://localhost:8080/"
        },
        "id": "FSlVWIp5c2T3",
        "outputId": "d909a551-0294-47a9-d7fb-ecb343fae04a"
      },
      "outputs": [
        {
          "name": "stdout",
          "output_type": "stream",
          "text": [
            "[('pleasure', 0.8218142986297607),\n",
            " ('guilt', 0.8181270360946655),\n",
            " ('strength', 0.8090558648109436),\n",
            " ('appetite', 0.8067728877067566),\n",
            " ('wisdom', 0.8045074343681335),\n",
            " ('fulfillment', 0.8027174472808838),\n",
            " ('joys', 0.8021374344825745),\n",
            " ('grief', 0.8010537624359131),\n",
            " ('builds', 0.7957392334938049),\n",
            " ('burden', 0.79334956407547)]\n"
          ]
        }
      ],
      "source": [
        "def analogy(model, x1, x2, y1):\n",
        "  pp.pprint(model.most_similar([x2, y1], negative=[x1]))\n",
        "\n",
        "# Try with your own word choice\n",
        "analogy(model, 'poverty', 'wealth', 'sickness')"
      ]
    },
    {
      "cell_type": "code",
      "execution_count": 125,
      "id": "um2TfZWHcENy",
      "metadata": {
        "colab": {
          "base_uri": "https://localhost:8080/"
        },
        "id": "um2TfZWHcENy",
        "outputId": "28b4f9ab-8882-4bd9-bb02-677df5dbb497"
      },
      "outputs": [
        {
          "name": "stdout",
          "output_type": "stream",
          "text": [
            "[('office', 0.8982475399971008),\n",
            " ('class', 0.8948242664337158),\n",
            " ('library', 0.8861555457115173),\n",
            " ('lab', 0.8752064108848572),\n",
            " ('board', 0.8645569086074829),\n",
            " ('uni', 0.8630157709121704),\n",
            " ('sat', 0.8525609374046326),\n",
            " ('exam', 0.8477165699005127),\n",
            " ('college', 0.8401762247085571),\n",
            " ('study', 0.8400046229362488)]\n"
          ]
        }
      ],
      "source": [
        "def analogy(model, x1, x2, y1):\n",
        "  pp.pprint(model.most_similar([x2, y1], negative=[x1]))\n",
        "\n",
        "# Try with your own word choice\n",
        "analogy(model, 'mother', 'home', 'teacher')"
      ]
    },
    {
      "cell_type": "code",
      "execution_count": 128,
      "id": "pBc3gvx-fU-A",
      "metadata": {
        "colab": {
          "base_uri": "https://localhost:8080/"
        },
        "id": "pBc3gvx-fU-A",
        "outputId": "bfe399f0-01f4-41f2-9e90-9f4024fb58b9"
      },
      "outputs": [
        {
          "name": "stdout",
          "output_type": "stream",
          "text": [
            "[('winter', 0.9252398014068604),\n",
            " ('summer', 0.9007641077041626),\n",
            " ('xmas', 0.8518497943878174),\n",
            " ('week', 0.8486925363540649),\n",
            " ('weekend', 0.8412061929702759),\n",
            " ('christmas', 0.8391479253768921),\n",
            " ('warm', 0.8389602303504944),\n",
            " ('amazing', 0.828996479511261),\n",
            " ('opening', 0.8274953365325928),\n",
            " ('midnight', 0.8263365626335144)]\n"
          ]
        }
      ],
      "source": [
        "def analogy(model, x1, x2, y1):\n",
        "  pp.pprint(model.most_similar([x2, y1], negative=[x1]))\n",
        "\n",
        "# Try with your own word choice\n",
        "analogy(model, 'march', 'spring', 'december')"
      ]
    },
    {
      "cell_type": "code",
      "execution_count": 137,
      "id": "Qwyop5j_fUpq",
      "metadata": {
        "colab": {
          "base_uri": "https://localhost:8080/"
        },
        "id": "Qwyop5j_fUpq",
        "outputId": "7930ac05-2bd1-4528-a388-5f5b7eb274ad"
      },
      "outputs": [
        {
          "name": "stdout",
          "output_type": "stream",
          "text": [
            "[('ronaldo', 0.9360077381134033),\n",
            " ('cristiano', 0.935539722442627),\n",
            " ('torres', 0.9187996983528137),\n",
            " ('iniesta', 0.9153600335121155),\n",
            " ('falcao', 0.9090200066566467),\n",
            " ('xavi', 0.9028913378715515),\n",
            " ('bale', 0.9020190834999084),\n",
            " ('casillas', 0.8984758853912354),\n",
            " ('mou', 0.8862735629081726),\n",
            " ('barça', 0.8823598027229309)]\n"
          ]
        }
      ],
      "source": [
        "def analogy(model, x1, x2, y1):\n",
        "  pp.pprint(model.most_similar([x2, y1], negative=[x1]))\n",
        "\n",
        "# Try with your own word choice\n",
        "analogy(model, 'soccer', 'messi', 'basketball')"
      ]
    },
    {
      "cell_type": "markdown",
      "id": "1c29f5df",
      "metadata": {
        "id": "1c29f5df"
      },
      "source": [
        "## Problem 3. Simple Mathematics with Word2Vec (10 pts)\n",
        "- In this problem, you have to complete the given functions ``word_analogy_with_vector`` and ``get_cosine_similarity``\n",
        "- In your report, please include your code for these functions"
      ]
    },
    {
      "cell_type": "code",
      "execution_count": null,
      "id": "dbb11a51",
      "metadata": {
        "colab": {
          "base_uri": "https://localhost:8080/",
          "height": 161
        },
        "id": "dbb11a51",
        "outputId": "ff0be941-9197-42b8-c08f-b5beefbb536f",
        "scrolled": true
      },
      "outputs": [
        {
          "name": "stdout",
          "output_type": "stream",
          "text": [
            "result vector is  [-2.04041    -0.06222999  0.07362202  1.1453301   0.3944     -0.72558004\n",
            "  1.8081      0.11692998  0.79493    -0.66673994  0.99141     0.54456997\n",
            " -3.1602     -0.00692701 -0.68719    -0.71597195 -0.13448006 -0.077546\n",
            "  1.42316     1.05583     0.720557   -0.25537002 -0.4989     -2.1607199\n",
            " -0.56942   ]\n"
          ]
        },
        {
          "data": {
            "application/vnd.google.colaboratory.intrinsic+json": {
              "type": "string"
            },
            "text/plain": [
              "\"\\nCaution: The most_similar of this vector can include the input word such as 'king' on its top rank.\\nThe most similar vector for analogy('man', 'king', 'woman') is, in fact, still 'king'.\\nBut most_similar with positive=['king', 'woman'], negative=['man'] will automatically ignore these input words from the result,\\nthus make 'queen' at the top\\n\""
            ]
          },
          "execution_count": 54,
          "metadata": {},
          "output_type": "execute_result"
        }
      ],
      "source": [
        "def word_analogy_with_vector(model, x_1, x_2, y_1):\n",
        "  \n",
        "  '''\n",
        "  This function takes a gensim Word2Vec model and outputs a vector to find y2 that corresponds to x_1 → x_2 == y_1 → y_2\n",
        "  e.g. x_1 (man) → x_2 (king) == y_1 (woman) → y_2(?)\n",
        "  \n",
        "  inputs\n",
        "  model (gensim.models.keyedvectors.KeyedVectors): Word2Vec model in KeyedVectors in gensim library\n",
        "  x_1, x_2, y_1 (str): Words in the model's vocabulary.\n",
        "  \n",
        "  output (np.ndarray): A vector in np.ndarray, which can be used to find proper y_2 for given (model, x_1, x_2, y_1)\n",
        "  '''\n",
        "  \n",
        "  # Write your code from here\n",
        "  y_2 = model[x_2]-model[x_1]+model[y_1]\n",
        "  return y_2\n",
        "\n",
        "# test whether the function works well\n",
        "result_vector = word_analogy_with_vector(model, 'man', 'king', 'woman')\n",
        "print('result vector is ', result_vector)\n",
        "assert isinstance(result_vector, np.ndarray), \"Output of the function has to be np.ndarray\"\n",
        "model.most_similar(result_vector)\n",
        "\n",
        "'''\n",
        "Caution: The most_similar of this vector can include the input word such as 'king' on its top rank.\n",
        "The most similar vector for analogy('man', 'king', 'woman') is, in fact, still 'king'.\n",
        "But most_similar with positive=['king', 'woman'], negative=['man'] will automatically ignore these input words from the result,\n",
        "thus make 'queen' at the top\n",
        "'''"
      ]
    },
    {
      "cell_type": "code",
      "execution_count": null,
      "id": "6dd3e583",
      "metadata": {
        "colab": {
          "base_uri": "https://localhost:8080/"
        },
        "id": "6dd3e583",
        "outputId": "66beeb1f-2d31-42f4-95f6-1ca9c7973b55"
      },
      "outputs": [
        {
          "name": "stdout",
          "output_type": "stream",
          "text": [
            "0.914787\n",
            "gensim library result: 0.91478705\n"
          ]
        }
      ],
      "source": [
        "def get_cosine_similarity(model, x, y):\n",
        "  \n",
        "  '''\n",
        "  This function returns cosine similarity of x,y\n",
        "  \n",
        "  inputs\n",
        "  model (gensim.models.keyedvectors.KeyedVectors): Word2Vec model in KeyedVectors in gensim library\n",
        "  x, y (str): Words in the model's vocabulary.\n",
        "  \n",
        "  output\n",
        "  similarity (float): cosine similarity between x's vector and y's vector\n",
        "  '''\n",
        "  # Write your codes from here\n",
        "  return np.dot(model[x],model[y])/(np.linalg.norm(model[x])*(np.linalg.norm(model[y])))\n",
        "\n",
        "# test the output with your own choice\n",
        "word_a = 'good'\n",
        "word_b = 'bad'\n",
        "\n",
        "similarity = get_cosine_similarity(model, word_a, word_b)\n",
        "print(similarity)\n",
        "assert -1 <= similarity <= 1, \"Similarity has to be between -1 and 1\"\n",
        "\n",
        "print('gensim library result:', model.similarity(word_a, word_b))"
      ]
    },
    {
      "cell_type": "markdown",
      "id": "084dc056",
      "metadata": {
        "id": "084dc056"
      },
      "source": [
        "## Problem 4. Visualize Word Vectors (10 pts)\n",
        "- Select a list of words of your interest\n",
        "    - **At least 30 words for minimum** \n",
        "    - ``word_list`` is a list of strings\n",
        "    - every element in ``word_list`` has to be included in the model's vocabulary\n",
        "- Visualize the vectors of words using dimensionality reduction (in this case, PCA)\n",
        "- In your report, describe how words are located in 2D space\n",
        "    - How are the words clustered?\n",
        "    - Do you think the words are properly located based on their semantic meanings?\n",
        "    - Is there anything suprising or unexpected examples?"
      ]
    },
    {
      "cell_type": "code",
      "execution_count": 17,
      "id": "57c0d085",
      "metadata": {
        "id": "57c0d085"
      },
      "outputs": [],
      "source": [
        "# Run this cell to \n",
        "import matplotlib.pyplot as plt\n",
        "from sklearn.decomposition import PCA\n",
        "\n",
        "def display_pca_scatterplot(model, words=None, sample=0):\n",
        "  if len(words) < 30:\n",
        "    print(\"WARNING: For your report, please select more than 30 word samples for the visualization\")\n",
        "    print(f\"Current length of input word list: {len(words)}\")\n",
        "  word_vectors = np.array([model[w] for w in words])\n",
        "\n",
        "  twodim = PCA().fit_transform(word_vectors)[:,:2]\n",
        "\n",
        "  plt.figure(figsize=(12,12))\n",
        "  plt.scatter(twodim[:,0], twodim[:,1], edgecolors='k', c='r')\n",
        "  for word, (x,y) in zip(words, twodim):\n",
        "      plt.text(x+0.05, y+0.05, word, fontsize=15)\n",
        "\n"
      ]
    },
    {
      "cell_type": "code",
      "execution_count": 18,
      "id": "7f61a201",
      "metadata": {
        "colab": {
          "base_uri": "https://localhost:8080/",
          "height": 700
        },
        "id": "7f61a201",
        "outputId": "dfafe4fe-2052-4966-bf54-a0d02489c26b"
      },
      "outputs": [
        {
          "data": {
            "image/png": "[encoded data removed]",
            "text/plain": [
              "<Figure size 864x864 with 1 Axes>"
            ]
          },
          "metadata": {
            "needs_background": "light"
          },
          "output_type": "display_data"
        }
      ],
      "source": [
        "# Select word list of your own interests\n",
        "word_list = ['quantum', 'science', 'school', 'coding', 'interactive', 'poster', 'movie', 'skate', 'kindness', 'weakness', 'mental', 'christian', 'fashion', 'friends', 'hiphop', 'song', 'listening', 'positive', 'passion', 'physics', 'art',\n",
        "             'modeling', 'animation', 'spain', 'drawing', 'coffee', 'tea', 'media', 'instagram', 'blog', 'house' \n",
        "\n",
        "]\n",
        "\n",
        "display_pca_scatterplot(model, word_list)"
      ]
    },
    {
      "cell_type": "markdown",
      "id": "03303d90",
      "metadata": {
        "id": "03303d90"
      },
      "source": [
        "## Problem 5. Compare different models (10 pts)\n",
        "- Word2Vec models can be trained on different corpus (text) or with different embedding size\n",
        "- The goal of this problem is to compare two different models with *different embedding size*\n",
        "- Select two models with different embedding size but the same training corpus\n",
        "    - e.g.  ``'glove-wiki-gigaword-50'``, ``'glove-wiki-gigaword-300'``\n",
        "\n",
        "- In your report, present at least **5** interesting examples that makes different result by model selection\n",
        "    - You can compare some word analogy examples or similairites or visualization"
      ]
    },
    {
      "cell_type": "code",
      "execution_count": 5,
      "id": "586ff05c",
      "metadata": {
        "colab": {
          "base_uri": "https://localhost:8080/"
        },
        "id": "586ff05c",
        "outputId": "4680074b-4d2c-497d-8aa1-a20d6aaa92ab"
      },
      "outputs": [
        {
          "data": {
            "text/plain": [
              "['fasttext-wiki-news-subwords-300',\n",
              " 'conceptnet-numberbatch-17-06-300',\n",
              " 'word2vec-ruscorpora-300',\n",
              " 'word2vec-google-news-300',\n",
              " 'glove-wiki-gigaword-50',\n",
              " 'glove-wiki-gigaword-100',\n",
              " 'glove-wiki-gigaword-200',\n",
              " 'glove-wiki-gigaword-300',\n",
              " 'glove-twitter-25',\n",
              " 'glove-twitter-50',\n",
              " 'glove-twitter-100',\n",
              " 'glove-twitter-200',\n",
              " '__testing_word2vec-matrix-synopsis']"
            ]
          },
          "execution_count": 5,
          "metadata": {},
          "output_type": "execute_result"
        }
      ],
      "source": [
        "# list the model name again if you want\n",
        "list(gensim.downloader.info()['models'].keys())"
      ]
    },
    {
      "cell_type": "code",
      "execution_count": 7,
      "id": "15a8f779",
      "metadata": {
        "colab": {
          "base_uri": "https://localhost:8080/"
        },
        "id": "15a8f779",
        "outputId": "59ac9b00-a7ac-4929-ae52-92f981686766",
        "scrolled": false
      },
      "outputs": [
        {
          "name": "stdout",
          "output_type": "stream",
          "text": [
            "[==================================================] 100.0% 66.0/66.0MB downloaded\n",
            "[==================================================] 100.0% 376.1/376.1MB downloaded\n"
          ]
        }
      ],
      "source": [
        "# select your model code \n",
        "small_model_code = 'glove-wiki-gigaword-50'\n",
        "large_model_code = 'glove-wiki-gigaword-300'\n",
        "\n",
        "small_model = gensim.downloader.load(small_model_code)\n",
        "large_model = gensim.downloader.load(large_model_code)"
      ]
    },
    {
      "cell_type": "code",
      "execution_count": null,
      "id": "5b528bc3",
      "metadata": {
        "id": "5b528bc3"
      },
      "outputs": [],
      "source": [
        "# repeat problem 1,2,4 of your choice to compare small_model and large_model"
      ]
    },
    {
      "cell_type": "code",
      "execution_count": 23,
      "id": "z8vUy8pJAvQG",
      "metadata": {
        "colab": {
          "base_uri": "https://localhost:8080/"
        },
        "id": "z8vUy8pJAvQG",
        "outputId": "2265434a-85f1-45d1-f9da-fdd4db31ef07"
      },
      "outputs": [
        {
          "data": {
            "text/plain": [
              "[('blackberry', 0.7543067336082458),\n",
              " ('chips', 0.7438644170761108),\n",
              " ('iphone', 0.7429664134979248),\n",
              " ('microsoft', 0.7334205508232117),\n",
              " ('ipad', 0.7331036329269409),\n",
              " ('pc', 0.7217225432395935),\n",
              " ('ipod', 0.7199784517288208),\n",
              " ('intel', 0.7192243337631226),\n",
              " ('ibm', 0.7146540284156799),\n",
              " ('software', 0.7093585133552551)]"
            ]
          },
          "execution_count": 23,
          "metadata": {},
          "output_type": "execute_result"
        }
      ],
      "source": [
        "target_word = 'apple' # Enter your word string here\n",
        "# check the word is in the vocabulary of the model\n",
        "assert small_model.has_index_for(target_word), f\"The selected word, {target_word}, is not included in the model's vocabulary\"\n",
        "small_model.most_similar(target_word)"
      ]
    },
    {
      "cell_type": "code",
      "execution_count": 24,
      "id": "2JypFTIpAz6f",
      "metadata": {
        "colab": {
          "base_uri": "https://localhost:8080/"
        },
        "id": "2JypFTIpAz6f",
        "outputId": "2ad840b1-4d5a-4e54-8ad0-da1c98680481"
      },
      "outputs": [
        {
          "data": {
            "text/plain": [
              "[('iphone', 0.5987043380737305),\n",
              " ('macintosh', 0.5836331248283386),\n",
              " ('ipod', 0.5761123895645142),\n",
              " ('microsoft', 0.5663833022117615),\n",
              " ('ipad', 0.5628098249435425),\n",
              " ('intel', 0.5457562804222107),\n",
              " ('ibm', 0.5286195278167725),\n",
              " ('google', 0.5282472968101501),\n",
              " ('imac', 0.507252037525177),\n",
              " ('software', 0.4962984323501587)]"
            ]
          },
          "execution_count": 24,
          "metadata": {},
          "output_type": "execute_result"
        }
      ],
      "source": [
        "target_word = 'apple' # Enter your word string here\n",
        "# check the word is in the vocabulary of the model\n",
        "assert large_model.has_index_for(target_word), f\"The selected word, {target_word}, is not included in the model's vocabulary\"\n",
        "large_model.most_similar(target_word)"
      ]
    },
    {
      "cell_type": "code",
      "execution_count": 12,
      "id": "EAZdEm2KA-at",
      "metadata": {
        "colab": {
          "base_uri": "https://localhost:8080/"
        },
        "id": "EAZdEm2KA-at",
        "outputId": "26522eac-c34d-4ac7-954f-e0a6d823e739"
      },
      "outputs": [
        {
          "name": "stdout",
          "output_type": "stream",
          "text": [
            "[('fluids', 0.6438249349594116),\n",
            " ('magnetism', 0.6217834949493408),\n",
            " ('residual', 0.6044836044311523),\n",
            " ('thirst', 0.6007238030433655),\n",
            " ('appetite', 0.5919932126998901),\n",
            " ('immense', 0.5867217779159546),\n",
            " ('pleasures', 0.5829240679740906),\n",
            " ('blood', 0.5818973183631897),\n",
            " ('pleasure', 0.5654019713401794),\n",
            " ('hive', 0.5637728571891785)]\n"
          ]
        }
      ],
      "source": [
        "def analogy(model, x1, x2, y1):\n",
        "  pp.pprint(model.most_similar([x2, y1], negative=[x1]))\n",
        "\n",
        "# Try with your own word choice\n",
        "analogy(small_model, 'poverty', 'wealth', 'sickness')"
      ]
    },
    {
      "cell_type": "code",
      "execution_count": 11,
      "id": "33U9ORRxBDXH",
      "metadata": {
        "colab": {
          "base_uri": "https://localhost:8080/"
        },
        "id": "33U9ORRxBDXH",
        "outputId": "4b6ea7eb-90b2-4d51-b208-7fa8d92da77f"
      },
      "outputs": [
        {
          "name": "stdout",
          "output_type": "stream",
          "text": [
            "[('wasting', 0.38760021328926086),\n",
            " ('accrued', 0.38343217968940735),\n",
            " ('accumulated', 0.36929944157600403),\n",
            " ('ill-gotten', 0.36765268445014954),\n",
            " ('riches', 0.3603493869304657),\n",
            " ('fortune', 0.3574392795562744),\n",
            " ('accumulating', 0.3513698875904083),\n",
            " ('immense', 0.3419641852378845),\n",
            " ('newfound', 0.34072938561439514),\n",
            " ('decompression', 0.33810797333717346)]\n"
          ]
        }
      ],
      "source": [
        "def analogy(model, x1, x2, y1):\n",
        "  pp.pprint(model.most_similar([x2, y1], negative=[x1]))\n",
        "\n",
        "# Try with your own word choice\n",
        "analogy(large_model, 'poverty', 'wealth', 'sickness')"
      ]
    },
    {
      "cell_type": "code",
      "execution_count": 13,
      "id": "bMbF6Sk9BKYZ",
      "metadata": {
        "colab": {
          "base_uri": "https://localhost:8080/"
        },
        "id": "bMbF6Sk9BKYZ",
        "outputId": "ae56726e-5c09-44f6-c37e-85d7be9109b4"
      },
      "outputs": [
        {
          "name": "stdout",
          "output_type": "stream",
          "text": [
            "[('ronaldinho', 0.7167998552322388),\n",
            " ('lebron', 0.7034477591514587),\n",
            " ('mcgrady', 0.7031396627426147),\n",
            " ('olajuwon', 0.702713131904602),\n",
            " (\"o'neal\", 0.6980611681938171),\n",
            " ('rivaldo', 0.696628212928772),\n",
            " ('brees', 0.6937004327774048),\n",
            " (\"eto'o\", 0.6906342506408691),\n",
            " ('bourque', 0.6869744062423706),\n",
            " ('shaquille', 0.6836276650428772)]\n"
          ]
        }
      ],
      "source": [
        "def analogy(model, x1, x2, y1):\n",
        "  pp.pprint(model.most_similar([x2, y1], negative=[x1]))\n",
        "\n",
        "# Try with your own word choice\n",
        "analogy(small_model, 'soccer', 'messi', 'basketball')"
      ]
    },
    {
      "cell_type": "code",
      "execution_count": 14,
      "id": "poSmBVAMBQdy",
      "metadata": {
        "colab": {
          "base_uri": "https://localhost:8080/"
        },
        "id": "poSmBVAMBQdy",
        "outputId": "730e056d-cfa8-4b6a-b70e-1e75940bfdc5"
      },
      "outputs": [
        {
          "name": "stdout",
          "output_type": "stream",
          "text": [
            "[(\"eto'o\", 0.5208575129508972),\n",
            " ('xavi', 0.5021194815635681),\n",
            " ('iniesta', 0.4962547719478607),\n",
            " ('ronaldinho', 0.4669080972671509),\n",
            " ('bojan', 0.4561964273452759),\n",
            " ('garnett', 0.44840869307518005),\n",
            " ('shaq', 0.44296619296073914),\n",
            " ('shaquille', 0.4425499141216278),\n",
            " ('lebron', 0.43662938475608826),\n",
            " (\"o'neal\", 0.43588876724243164)]\n"
          ]
        }
      ],
      "source": [
        "def analogy(model, x1, x2, y1):\n",
        "  pp.pprint(model.most_similar([x2, y1], negative=[x1]))\n",
        "\n",
        "# Try with your own word choice\n",
        "analogy(large_model, 'soccer', 'messi', 'basketball')"
      ]
    },
    {
      "cell_type": "code",
      "execution_count": 15,
      "id": "2uxb5jtoBjYQ",
      "metadata": {
        "colab": {
          "base_uri": "https://localhost:8080/"
        },
        "id": "2uxb5jtoBjYQ",
        "outputId": "1195b6b3-443e-4064-b2c9-0660a61ac91b"
      },
      "outputs": [
        {
          "name": "stdout",
          "output_type": "stream",
          "text": [
            "[('school', 0.7953029870986938),\n",
            " ('student', 0.7711709141731262),\n",
            " ('schools', 0.7541789412498474),\n",
            " ('students', 0.7480208277702332),\n",
            " ('college', 0.7465643286705017),\n",
            " ('campus', 0.7331162095069885),\n",
            " ('teachers', 0.7245280742645264),\n",
            " ('high', 0.7225134372711182),\n",
            " ('at', 0.717426598072052),\n",
            " ('graduate', 0.711702823638916)]\n"
          ]
        }
      ],
      "source": [
        "def analogy(model, x1, x2, y1):\n",
        "  pp.pprint(model.most_similar([x2, y1], negative=[x1]))\n",
        "\n",
        "# Try with your own word choice\n",
        "analogy(small_model, 'mother', 'home', 'teacher')"
      ]
    },
    {
      "cell_type": "code",
      "execution_count": 16,
      "id": "UhbNnccMBlbB",
      "metadata": {
        "colab": {
          "base_uri": "https://localhost:8080/"
        },
        "id": "UhbNnccMBlbB",
        "outputId": "33808512-62a1-496f-e06c-91bd3411eba3"
      },
      "outputs": [
        {
          "name": "stdout",
          "output_type": "stream",
          "text": [
            "[('teachers', 0.5522273182868958),\n",
            " ('school', 0.5246594548225403),\n",
            " ('classroom', 0.5122290849685669),\n",
            " ('students', 0.5081290006637573),\n",
            " ('student', 0.48576828837394714),\n",
            " ('education', 0.48130881786346436),\n",
            " ('schools', 0.46445053815841675),\n",
            " ('teaching', 0.46327850222587585),\n",
            " ('training', 0.4431963562965393),\n",
            " ('courses', 0.44211283326148987)]\n"
          ]
        }
      ],
      "source": [
        "def analogy(model, x1, x2, y1):\n",
        "  pp.pprint(model.most_similar([x2, y1], negative=[x1]))\n",
        "\n",
        "# Try with your own word choice\n",
        "analogy(large_model, 'mother', 'home', 'teacher')"
      ]
    },
    {
      "cell_type": "code",
      "execution_count": 19,
      "id": "pBjWxekSBucM",
      "metadata": {
        "colab": {
          "base_uri": "https://localhost:8080/",
          "height": 700
        },
        "id": "pBjWxekSBucM",
        "outputId": "ed7c3a23-0ca3-4172-cd51-0087736697d1"
      },
      "outputs": [
        {
          "data": {
            "image/png": "[encoded data removed]",
            "text/plain": [
              "<Figure size 864x864 with 1 Axes>"
            ]
          },
          "metadata": {
            "needs_background": "light"
          },
          "output_type": "display_data"
        }
      ],
      "source": [
        "display_pca_scatterplot(small_model, word_list)"
      ]
    },
    {
      "cell_type": "code",
      "execution_count": 20,
      "id": "K5WPW6YSBw0j",
      "metadata": {
        "colab": {
          "base_uri": "https://localhost:8080/",
          "height": 700
        },
        "id": "K5WPW6YSBw0j",
        "outputId": "213573b3-feab-4c15-e878-7c2aef865d1e"
      },
      "outputs": [
        {
          "data": {
            "image/png": "[encoded data removed]",
            "text/plain": [
              "<Figure size 864x864 with 1 Axes>"
            ]
          },
          "metadata": {
            "needs_background": "light"
          },
          "output_type": "display_data"
        }
      ],
      "source": [
        "display_pca_scatterplot(large_model, word_list)"
      ]
    }
  ],
  "metadata": {
    "colab": {
      "collapsed_sections": [],
      "name": "AAT0320_Assignment1.ipynb (20201138 YewonJang)",
      "provenance": []
    },
    "kernelspec": {
      "display_name": "Python 3 (ipykernel)",
      "language": "python",
      "name": "python3"
    },
    "language_info": {
      "codemirror_mode": {
        "name": "ipython",
        "version": 3
      },
      "file_extension": ".py",
      "mimetype": "text/x-python",
      "name": "python",
      "nbconvert_exporter": "python",
      "pygments_lexer": "ipython3",
      "version": "3.8.10"
    }
  },
  "nbformat": 4,
  "nbformat_minor": 5
}
